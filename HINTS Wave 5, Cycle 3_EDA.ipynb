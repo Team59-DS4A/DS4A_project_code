{
 "cells": [
  {
   "cell_type": "code",
   "execution_count": 1,
   "metadata": {},
   "outputs": [
    {
     "name": "stderr",
     "output_type": "stream",
     "text": [
      "/opt/conda/lib/python3.6/site-packages/statsmodels/tools/_testing.py:19: FutureWarning: pandas.util.testing is deprecated. Use the functions in the public API at pandas.testing instead.\n",
      "  import pandas.util.testing as tm\n"
     ]
    }
   ],
   "source": [
    "#import relevant packages\n",
    "import os\n",
    "import numpy as np\n",
    "import pandas as pd\n",
    "from scipy.stats import chi2_contingency\n",
    "import matplotlib.pyplot as plt\n",
    "import seaborn as sns\n",
    "# This line is needed to display plots inline in Jupyter Notebook\n",
    "%matplotlib inline"
   ]
  },
  {
   "cell_type": "code",
   "execution_count": 2,
   "metadata": {},
   "outputs": [
    {
     "data": {
      "text/plain": [
       "'/home/jovyan/work/HINTS'"
      ]
     },
     "execution_count": 2,
     "metadata": {},
     "output_type": "execute_result"
    }
   ],
   "source": [
    "os.getcwd()"
   ]
  },
  {
   "cell_type": "code",
   "execution_count": 3,
   "metadata": {},
   "outputs": [],
   "source": [
    "# Read the data file and take a look at the data\n",
    "df = pd.read_sas(os.path.join('hints5_cycle3_public.sas7bdat'),encoding='mac_roman')"
   ]
  },
  {
   "cell_type": "code",
   "execution_count": 4,
   "metadata": {},
   "outputs": [
    {
     "name": "stdout",
     "output_type": "stream",
     "text": [
      "<class 'pandas.core.frame.DataFrame'>\n",
      "RangeIndex: 5438 entries, 0 to 5437\n",
      "Columns: 730 entries, HHID to IncomeRanges_IMP\n",
      "dtypes: float64(721), object(9)\n",
      "memory usage: 30.3+ MB\n"
     ]
    }
   ],
   "source": [
    "df.info() #Examine dataframe"
   ]
  },
  {
   "cell_type": "code",
   "execution_count": 5,
   "metadata": {},
   "outputs": [
    {
     "data": {
      "text/html": [
       "<div>\n",
       "<style scoped>\n",
       "    .dataframe tbody tr th:only-of-type {\n",
       "        vertical-align: middle;\n",
       "    }\n",
       "\n",
       "    .dataframe tbody tr th {\n",
       "        vertical-align: top;\n",
       "    }\n",
       "\n",
       "    .dataframe thead th {\n",
       "        text-align: right;\n",
       "    }\n",
       "</style>\n",
       "<table border=\"1\" class=\"dataframe\">\n",
       "  <thead>\n",
       "    <tr style=\"text-align: right;\">\n",
       "      <th></th>\n",
       "      <th>HHID</th>\n",
       "      <th>PersonID</th>\n",
       "      <th>Stratum</th>\n",
       "      <th>APP_REGION</th>\n",
       "      <th>HIGHSPANLI</th>\n",
       "      <th>HISPSURNAME</th>\n",
       "      <th>HISP_HH</th>\n",
       "      <th>RUC2003</th>\n",
       "      <th>RUC2013</th>\n",
       "      <th>PR_RUCA_2010</th>\n",
       "      <th>...</th>\n",
       "      <th>HHInc</th>\n",
       "      <th>BMI</th>\n",
       "      <th>AgeDX</th>\n",
       "      <th>TimeSinceDX</th>\n",
       "      <th>smokeStat</th>\n",
       "      <th>PHQ4</th>\n",
       "      <th>WeeklyMinutesModerateExercise</th>\n",
       "      <th>eCigUse</th>\n",
       "      <th>AvgDrinksPerWeek</th>\n",
       "      <th>IncomeRanges_IMP</th>\n",
       "    </tr>\n",
       "  </thead>\n",
       "  <tbody>\n",
       "    <tr>\n",
       "      <th>0</th>\n",
       "      <td>91000002.0</td>\n",
       "      <td>91000002-02</td>\n",
       "      <td>HM</td>\n",
       "      <td>NaN</td>\n",
       "      <td>2.0</td>\n",
       "      <td>2.0</td>\n",
       "      <td>2.0</td>\n",
       "      <td>6.0</td>\n",
       "      <td>6.0</td>\n",
       "      <td>7.0</td>\n",
       "      <td>...</td>\n",
       "      <td>1.0</td>\n",
       "      <td>26.3</td>\n",
       "      <td>-1.0</td>\n",
       "      <td>-1.0</td>\n",
       "      <td>3.0</td>\n",
       "      <td>5.0</td>\n",
       "      <td>0.0</td>\n",
       "      <td>3.0</td>\n",
       "      <td>0.0</td>\n",
       "      <td>3.0</td>\n",
       "    </tr>\n",
       "    <tr>\n",
       "      <th>1</th>\n",
       "      <td>91000006.0</td>\n",
       "      <td>91000006-02</td>\n",
       "      <td>HM</td>\n",
       "      <td>NaN</td>\n",
       "      <td>2.0</td>\n",
       "      <td>2.0</td>\n",
       "      <td>2.0</td>\n",
       "      <td>6.0</td>\n",
       "      <td>6.0</td>\n",
       "      <td>2.0</td>\n",
       "      <td>...</td>\n",
       "      <td>4.0</td>\n",
       "      <td>28.3</td>\n",
       "      <td>-1.0</td>\n",
       "      <td>-1.0</td>\n",
       "      <td>3.0</td>\n",
       "      <td>0.0</td>\n",
       "      <td>30.0</td>\n",
       "      <td>3.0</td>\n",
       "      <td>-9.0</td>\n",
       "      <td>6.0</td>\n",
       "    </tr>\n",
       "    <tr>\n",
       "      <th>2</th>\n",
       "      <td>91000007.0</td>\n",
       "      <td>91000007-03</td>\n",
       "      <td>HM</td>\n",
       "      <td>NaN</td>\n",
       "      <td>2.0</td>\n",
       "      <td>2.0</td>\n",
       "      <td>2.0</td>\n",
       "      <td>6.0</td>\n",
       "      <td>6.0</td>\n",
       "      <td>8.0</td>\n",
       "      <td>...</td>\n",
       "      <td>-9.0</td>\n",
       "      <td>37.1</td>\n",
       "      <td>-6.0</td>\n",
       "      <td>-6.0</td>\n",
       "      <td>2.0</td>\n",
       "      <td>6.0</td>\n",
       "      <td>0.0</td>\n",
       "      <td>3.0</td>\n",
       "      <td>0.0</td>\n",
       "      <td>5.0</td>\n",
       "    </tr>\n",
       "    <tr>\n",
       "      <th>3</th>\n",
       "      <td>91000008.0</td>\n",
       "      <td>91000008-01</td>\n",
       "      <td>HM</td>\n",
       "      <td>S</td>\n",
       "      <td>2.0</td>\n",
       "      <td>2.0</td>\n",
       "      <td>2.0</td>\n",
       "      <td>3.0</td>\n",
       "      <td>3.0</td>\n",
       "      <td>1.0</td>\n",
       "      <td>...</td>\n",
       "      <td>2.0</td>\n",
       "      <td>21.6</td>\n",
       "      <td>-1.0</td>\n",
       "      <td>-1.0</td>\n",
       "      <td>3.0</td>\n",
       "      <td>0.0</td>\n",
       "      <td>90.0</td>\n",
       "      <td>3.0</td>\n",
       "      <td>0.0</td>\n",
       "      <td>4.0</td>\n",
       "    </tr>\n",
       "    <tr>\n",
       "      <th>4</th>\n",
       "      <td>91000012.0</td>\n",
       "      <td>91000012-01</td>\n",
       "      <td>HM</td>\n",
       "      <td>S</td>\n",
       "      <td>2.0</td>\n",
       "      <td>2.0</td>\n",
       "      <td>2.0</td>\n",
       "      <td>6.0</td>\n",
       "      <td>6.0</td>\n",
       "      <td>4.0</td>\n",
       "      <td>...</td>\n",
       "      <td>3.0</td>\n",
       "      <td>28.8</td>\n",
       "      <td>-1.0</td>\n",
       "      <td>-1.0</td>\n",
       "      <td>2.0</td>\n",
       "      <td>1.0</td>\n",
       "      <td>100.0</td>\n",
       "      <td>1.0</td>\n",
       "      <td>8.0</td>\n",
       "      <td>5.0</td>\n",
       "    </tr>\n",
       "  </tbody>\n",
       "</table>\n",
       "<p>5 rows × 730 columns</p>\n",
       "</div>"
      ],
      "text/plain": [
       "         HHID     PersonID Stratum APP_REGION  HIGHSPANLI  HISPSURNAME  \\\n",
       "0  91000002.0  91000002-02      HM        NaN         2.0          2.0   \n",
       "1  91000006.0  91000006-02      HM        NaN         2.0          2.0   \n",
       "2  91000007.0  91000007-03      HM        NaN         2.0          2.0   \n",
       "3  91000008.0  91000008-01      HM          S         2.0          2.0   \n",
       "4  91000012.0  91000012-01      HM          S         2.0          2.0   \n",
       "\n",
       "   HISP_HH  RUC2003  RUC2013  PR_RUCA_2010  ...  HHInc   BMI  AgeDX  \\\n",
       "0      2.0      6.0      6.0           7.0  ...    1.0  26.3   -1.0   \n",
       "1      2.0      6.0      6.0           2.0  ...    4.0  28.3   -1.0   \n",
       "2      2.0      6.0      6.0           8.0  ...   -9.0  37.1   -6.0   \n",
       "3      2.0      3.0      3.0           1.0  ...    2.0  21.6   -1.0   \n",
       "4      2.0      6.0      6.0           4.0  ...    3.0  28.8   -1.0   \n",
       "\n",
       "   TimeSinceDX  smokeStat  PHQ4 WeeklyMinutesModerateExercise  eCigUse  \\\n",
       "0         -1.0        3.0   5.0                           0.0      3.0   \n",
       "1         -1.0        3.0   0.0                          30.0      3.0   \n",
       "2         -6.0        2.0   6.0                           0.0      3.0   \n",
       "3         -1.0        3.0   0.0                          90.0      3.0   \n",
       "4         -1.0        2.0   1.0                         100.0      1.0   \n",
       "\n",
       "   AvgDrinksPerWeek  IncomeRanges_IMP  \n",
       "0               0.0               3.0  \n",
       "1              -9.0               6.0  \n",
       "2               0.0               5.0  \n",
       "3               0.0               4.0  \n",
       "4               8.0               5.0  \n",
       "\n",
       "[5 rows x 730 columns]"
      ]
     },
     "execution_count": 5,
     "metadata": {},
     "output_type": "execute_result"
    }
   ],
   "source": [
    "df.head()"
   ]
  },
  {
   "cell_type": "code",
   "execution_count": 7,
   "metadata": {},
   "outputs": [],
   "source": [
    "#Selecting variables of interest to me by category\n",
    "demo = ['HHID', 'PersonID','Age', 'MaritalStatus', 'Education', 'SpeakEnglish', 'Hisp_Cat', 'Race_Cat2', 'SexualOrientation', 'TotalHousehold',\n",
    "'TotalHousehold', 'SelfGender', 'GenderC', 'SelfAge', 'RentOrOwn', 'IncomeRanges', 'IncomeFeelings', 'AgeGrpB', 'EducB', 'RaceEthn', 'HHInc']\n",
    "\n",
    "health = ['BMI', 'smokeStat', 'PHQ4', 'WeeklyMinutesModerateExercise','eCigUse', 'AvgDrinksPerWeek', 'IncomeRanges_IMP']\n",
    "\n",
    "internet = ['UseInternet', 'WhereUseInternet_Home', 'WhereUseInternet_MobileDevice', 'Electronic_SelfHealthInfo', 'Electronic_BuyMedicine', 'Electronic_TalkDoctor',\n",
    "'Electronic_TrackedHealthCosts', 'Electronic_TestResults', 'Electronic_MadeAppts', 'Electronic_ECigHarms', 'HaveDevice_Tablet', 'HaveDevice_SmartPh', 'HaveDevice_CellPh',\n",
    "'HaveDevice_None', 'HaveDevice_Cat', 'TabletHealthWellnessApps', 'Tablet_AchieveGoal','Tablet_MakeDecision', 'Tablet_DiscussionsHCP', 'WearableDevTrackHealth', 'FreqWearDevTrackHealth',\n",
    "'WillingShareData_HCP', 'WillingShareData_Fam', 'OtherDevTrackHealth2', 'SharedHealthDeviceInfo', 'IntRsn_VisitedSocNet', 'IntRsn_SharedSocNet', 'IntRsn_WroteBlog',\n",
    " 'IntRsn_SupportGroup', 'IntRsn_YouTube', 'TextFromDoctor']"
   ]
  },
  {
   "cell_type": "code",
   "execution_count": 8,
   "metadata": {},
   "outputs": [],
   "source": [
    "#Adding the separate lists together \n",
    "all_var_list = demo + health + internet "
   ]
  },
  {
   "cell_type": "code",
   "execution_count": 9,
   "metadata": {},
   "outputs": [
    {
     "name": "stdout",
     "output_type": "stream",
     "text": [
      "<class 'pandas.core.frame.DataFrame'>\n",
      "RangeIndex: 5438 entries, 0 to 5437\n",
      "Data columns (total 59 columns):\n",
      " #   Column                         Non-Null Count  Dtype  \n",
      "---  ------                         --------------  -----  \n",
      " 0   HHID                           5438 non-null   float64\n",
      " 1   PersonID                       5438 non-null   object \n",
      " 2   Age                            5438 non-null   float64\n",
      " 3   MaritalStatus                  5438 non-null   float64\n",
      " 4   Education                      5438 non-null   float64\n",
      " 5   SpeakEnglish                   5438 non-null   float64\n",
      " 6   Hisp_Cat                       5438 non-null   float64\n",
      " 7   Race_Cat2                      5438 non-null   float64\n",
      " 8   SexualOrientation              5438 non-null   float64\n",
      " 9   TotalHousehold                 5438 non-null   float64\n",
      " 10  TotalHousehold                 5438 non-null   float64\n",
      " 11  SelfGender                     5438 non-null   float64\n",
      " 12  GenderC                        5438 non-null   float64\n",
      " 13  SelfAge                        5438 non-null   float64\n",
      " 14  RentOrOwn                      5438 non-null   float64\n",
      " 15  IncomeRanges                   5438 non-null   float64\n",
      " 16  IncomeFeelings                 5438 non-null   float64\n",
      " 17  AgeGrpB                        5438 non-null   float64\n",
      " 18  EducB                          5438 non-null   float64\n",
      " 19  RaceEthn                       5438 non-null   float64\n",
      " 20  HHInc                          5438 non-null   float64\n",
      " 21  BMI                            5438 non-null   float64\n",
      " 22  smokeStat                      5438 non-null   float64\n",
      " 23  PHQ4                           5438 non-null   float64\n",
      " 24  WeeklyMinutesModerateExercise  5438 non-null   float64\n",
      " 25  eCigUse                        5438 non-null   float64\n",
      " 26  AvgDrinksPerWeek               5438 non-null   float64\n",
      " 27  IncomeRanges_IMP               5438 non-null   float64\n",
      " 28  UseInternet                    5438 non-null   float64\n",
      " 29  WhereUseInternet_Home          5438 non-null   float64\n",
      " 30  WhereUseInternet_MobileDevice  5438 non-null   float64\n",
      " 31  Electronic_SelfHealthInfo      5438 non-null   float64\n",
      " 32  Electronic_BuyMedicine         5438 non-null   float64\n",
      " 33  Electronic_TalkDoctor          5438 non-null   float64\n",
      " 34  Electronic_TrackedHealthCosts  5438 non-null   float64\n",
      " 35  Electronic_TestResults         5438 non-null   float64\n",
      " 36  Electronic_MadeAppts           5438 non-null   float64\n",
      " 37  Electronic_ECigHarms           5438 non-null   float64\n",
      " 38  HaveDevice_Tablet              5438 non-null   float64\n",
      " 39  HaveDevice_SmartPh             5438 non-null   float64\n",
      " 40  HaveDevice_CellPh              5438 non-null   float64\n",
      " 41  HaveDevice_None                5438 non-null   float64\n",
      " 42  HaveDevice_Cat                 5438 non-null   float64\n",
      " 43  TabletHealthWellnessApps       5438 non-null   float64\n",
      " 44  Tablet_AchieveGoal             5438 non-null   float64\n",
      " 45  Tablet_MakeDecision            5438 non-null   float64\n",
      " 46  Tablet_DiscussionsHCP          5438 non-null   float64\n",
      " 47  WearableDevTrackHealth         5438 non-null   float64\n",
      " 48  FreqWearDevTrackHealth         5438 non-null   float64\n",
      " 49  WillingShareData_HCP           5438 non-null   float64\n",
      " 50  WillingShareData_Fam           5438 non-null   float64\n",
      " 51  OtherDevTrackHealth2           5438 non-null   float64\n",
      " 52  SharedHealthDeviceInfo         5438 non-null   float64\n",
      " 53  IntRsn_VisitedSocNet           5438 non-null   float64\n",
      " 54  IntRsn_SharedSocNet            5438 non-null   float64\n",
      " 55  IntRsn_WroteBlog               5438 non-null   float64\n",
      " 56  IntRsn_SupportGroup            5438 non-null   float64\n",
      " 57  IntRsn_YouTube                 5438 non-null   float64\n",
      " 58  TextFromDoctor                 5438 non-null   float64\n",
      "dtypes: float64(58), object(1)\n",
      "memory usage: 2.4+ MB\n"
     ]
    }
   ],
   "source": [
    "#Creating a dataframe with only the variables from the list\n",
    "df2 = df[all_var_list]\n",
    "df2.info()"
   ]
  },
  {
   "cell_type": "code",
   "execution_count": 10,
   "metadata": {},
   "outputs": [
    {
     "data": {
      "text/plain": [
       "-9.0    0.027768\n",
       "-4.0    0.000552\n",
       " 1.0    0.126333\n",
       " 2.0    0.178007\n",
       " 3.0    0.306730\n",
       " 4.0    0.215337\n",
       " 5.0    0.145274\n",
       "Name: AgeGrpB, dtype: float64"
      ]
     },
     "execution_count": 10,
     "metadata": {},
     "output_type": "execute_result"
    }
   ],
   "source": [
    "#frequency counts for Age group variable (no missings removed)\n",
    "df2['AgeGrpB'].value_counts(normalize=True).sort_index()"
   ]
  },
  {
   "cell_type": "code",
   "execution_count": 11,
   "metadata": {},
   "outputs": [
    {
     "data": {
      "text/html": [
       "<div>\n",
       "<style scoped>\n",
       "    .dataframe tbody tr th:only-of-type {\n",
       "        vertical-align: middle;\n",
       "    }\n",
       "\n",
       "    .dataframe tbody tr th {\n",
       "        vertical-align: top;\n",
       "    }\n",
       "\n",
       "    .dataframe thead th {\n",
       "        text-align: right;\n",
       "    }\n",
       "</style>\n",
       "<table border=\"1\" class=\"dataframe\">\n",
       "  <thead>\n",
       "    <tr style=\"text-align: right;\">\n",
       "      <th>GenderC</th>\n",
       "      <th>-9.0</th>\n",
       "      <th>-7.0</th>\n",
       "      <th>1.0</th>\n",
       "      <th>2.0</th>\n",
       "    </tr>\n",
       "    <tr>\n",
       "      <th>AgeGrpB</th>\n",
       "      <th></th>\n",
       "      <th></th>\n",
       "      <th></th>\n",
       "      <th></th>\n",
       "    </tr>\n",
       "  </thead>\n",
       "  <tbody>\n",
       "    <tr>\n",
       "      <th>-9.0</th>\n",
       "      <td>45</td>\n",
       "      <td>0</td>\n",
       "      <td>32</td>\n",
       "      <td>74</td>\n",
       "    </tr>\n",
       "    <tr>\n",
       "      <th>-4.0</th>\n",
       "      <td>0</td>\n",
       "      <td>0</td>\n",
       "      <td>3</td>\n",
       "      <td>0</td>\n",
       "    </tr>\n",
       "    <tr>\n",
       "      <th>1.0</th>\n",
       "      <td>1</td>\n",
       "      <td>16</td>\n",
       "      <td>259</td>\n",
       "      <td>411</td>\n",
       "    </tr>\n",
       "    <tr>\n",
       "      <th>2.0</th>\n",
       "      <td>5</td>\n",
       "      <td>12</td>\n",
       "      <td>383</td>\n",
       "      <td>568</td>\n",
       "    </tr>\n",
       "    <tr>\n",
       "      <th>3.0</th>\n",
       "      <td>18</td>\n",
       "      <td>8</td>\n",
       "      <td>690</td>\n",
       "      <td>952</td>\n",
       "    </tr>\n",
       "    <tr>\n",
       "      <th>4.0</th>\n",
       "      <td>13</td>\n",
       "      <td>2</td>\n",
       "      <td>552</td>\n",
       "      <td>604</td>\n",
       "    </tr>\n",
       "    <tr>\n",
       "      <th>5.0</th>\n",
       "      <td>9</td>\n",
       "      <td>0</td>\n",
       "      <td>317</td>\n",
       "      <td>464</td>\n",
       "    </tr>\n",
       "  </tbody>\n",
       "</table>\n",
       "</div>"
      ],
      "text/plain": [
       "GenderC  -9.0  -7.0   1.0   2.0\n",
       "AgeGrpB                        \n",
       "-9.0       45     0    32    74\n",
       "-4.0        0     0     3     0\n",
       " 1.0        1    16   259   411\n",
       " 2.0        5    12   383   568\n",
       " 3.0       18     8   690   952\n",
       " 4.0       13     2   552   604\n",
       " 5.0        9     0   317   464"
      ]
     },
     "execution_count": 11,
     "metadata": {},
     "output_type": "execute_result"
    }
   ],
   "source": [
    "#Crosstab with no missing values removed\n",
    "pd.crosstab(index=df2.AgeGrpB, columns=df.GenderC)"
   ]
  },
  {
   "cell_type": "code",
   "execution_count": 12,
   "metadata": {},
   "outputs": [
    {
     "data": {
      "text/plain": [
       "HHID                             False\n",
       "PersonID                         False\n",
       "Age                              False\n",
       "MaritalStatus                    False\n",
       "Education                        False\n",
       "SpeakEnglish                     False\n",
       "Hisp_Cat                         False\n",
       "Race_Cat2                        False\n",
       "SexualOrientation                False\n",
       "TotalHousehold                   False\n",
       "TotalHousehold                   False\n",
       "SelfGender                       False\n",
       "GenderC                          False\n",
       "SelfAge                          False\n",
       "RentOrOwn                        False\n",
       "IncomeRanges                     False\n",
       "IncomeFeelings                   False\n",
       "AgeGrpB                          False\n",
       "EducB                            False\n",
       "RaceEthn                         False\n",
       "HHInc                            False\n",
       "BMI                              False\n",
       "smokeStat                        False\n",
       "PHQ4                             False\n",
       "WeeklyMinutesModerateExercise    False\n",
       "eCigUse                          False\n",
       "AvgDrinksPerWeek                 False\n",
       "IncomeRanges_IMP                 False\n",
       "UseInternet                      False\n",
       "WhereUseInternet_Home            False\n",
       "WhereUseInternet_MobileDevice    False\n",
       "Electronic_SelfHealthInfo        False\n",
       "Electronic_BuyMedicine           False\n",
       "Electronic_TalkDoctor            False\n",
       "Electronic_TrackedHealthCosts    False\n",
       "Electronic_TestResults           False\n",
       "Electronic_MadeAppts             False\n",
       "Electronic_ECigHarms             False\n",
       "HaveDevice_Tablet                False\n",
       "HaveDevice_SmartPh               False\n",
       "HaveDevice_CellPh                False\n",
       "HaveDevice_None                  False\n",
       "HaveDevice_Cat                   False\n",
       "TabletHealthWellnessApps         False\n",
       "Tablet_AchieveGoal               False\n",
       "Tablet_MakeDecision              False\n",
       "Tablet_DiscussionsHCP            False\n",
       "WearableDevTrackHealth           False\n",
       "FreqWearDevTrackHealth           False\n",
       "WillingShareData_HCP             False\n",
       "WillingShareData_Fam             False\n",
       "OtherDevTrackHealth2             False\n",
       "SharedHealthDeviceInfo           False\n",
       "IntRsn_VisitedSocNet             False\n",
       "IntRsn_SharedSocNet              False\n",
       "IntRsn_WroteBlog                 False\n",
       "IntRsn_SupportGroup              False\n",
       "IntRsn_YouTube                   False\n",
       "TextFromDoctor                   False\n",
       "dtype: bool"
      ]
     },
     "execution_count": 12,
     "metadata": {},
     "output_type": "execute_result"
    }
   ],
   "source": [
    "#Examining null values\n",
    "df2.isnull().any()"
   ]
  },
  {
   "cell_type": "code",
   "execution_count": 13,
   "metadata": {},
   "outputs": [],
   "source": [
    "#Replace select negative values with NaN naules in dataset\n",
    "#Will not do this for actual analysis\n",
    "df3 = df2.replace(-9.0, np.nan)\n",
    "df3 = df3.replace(-4.0, np.nan)\n",
    "df3 = df3.replace(-7.0, np.nan)\n",
    "df3 = df3.replace(-1.0, np.nan)\n",
    "df3 = df3.replace(-2.0, np.nan)\n",
    "df3 = df3.replace(-5.0, np.nan)\n",
    "df3 = df3.replace(-6.0, np.nan)"
   ]
  },
  {
   "cell_type": "code",
   "execution_count": 14,
   "metadata": {},
   "outputs": [
    {
     "data": {
      "text/html": [
       "<div>\n",
       "<style scoped>\n",
       "    .dataframe tbody tr th:only-of-type {\n",
       "        vertical-align: middle;\n",
       "    }\n",
       "\n",
       "    .dataframe tbody tr th {\n",
       "        vertical-align: top;\n",
       "    }\n",
       "\n",
       "    .dataframe thead th {\n",
       "        text-align: right;\n",
       "    }\n",
       "</style>\n",
       "<table border=\"1\" class=\"dataframe\">\n",
       "  <thead>\n",
       "    <tr style=\"text-align: right;\">\n",
       "      <th>GenderC</th>\n",
       "      <th>1.0</th>\n",
       "      <th>2.0</th>\n",
       "    </tr>\n",
       "    <tr>\n",
       "      <th>AgeGrpB</th>\n",
       "      <th></th>\n",
       "      <th></th>\n",
       "    </tr>\n",
       "  </thead>\n",
       "  <tbody>\n",
       "    <tr>\n",
       "      <th>1.0</th>\n",
       "      <td>259</td>\n",
       "      <td>411</td>\n",
       "    </tr>\n",
       "    <tr>\n",
       "      <th>2.0</th>\n",
       "      <td>383</td>\n",
       "      <td>568</td>\n",
       "    </tr>\n",
       "    <tr>\n",
       "      <th>3.0</th>\n",
       "      <td>690</td>\n",
       "      <td>952</td>\n",
       "    </tr>\n",
       "    <tr>\n",
       "      <th>4.0</th>\n",
       "      <td>552</td>\n",
       "      <td>604</td>\n",
       "    </tr>\n",
       "    <tr>\n",
       "      <th>5.0</th>\n",
       "      <td>317</td>\n",
       "      <td>464</td>\n",
       "    </tr>\n",
       "  </tbody>\n",
       "</table>\n",
       "</div>"
      ],
      "text/plain": [
       "GenderC  1.0  2.0\n",
       "AgeGrpB          \n",
       "1.0      259  411\n",
       "2.0      383  568\n",
       "3.0      690  952\n",
       "4.0      552  604\n",
       "5.0      317  464"
      ]
     },
     "execution_count": 14,
     "metadata": {},
     "output_type": "execute_result"
    }
   ],
   "source": [
    "#Create dataframe cross tab of age and sex variable\n",
    "ageXsex = pd.crosstab(index=df3.AgeGrpB, columns=df3.GenderC)\n",
    "ageXsex"
   ]
  },
  {
   "cell_type": "code",
   "execution_count": 15,
   "metadata": {},
   "outputs": [
    {
     "data": {
      "text/plain": [
       "{1.0: '18-34', 2: '35-49', 3: '50-64', 4: '65-74', 5: '75+'}"
      ]
     },
     "execution_count": 15,
     "metadata": {},
     "output_type": "execute_result"
    }
   ],
   "source": [
    "#Creating labels for age groups\n",
    "age_labels = {1.0 :'18-34', 2: '35-49', 3: '50-64',4:'65-74',5:'75+' }\n",
    "age_labels"
   ]
  },
  {
   "cell_type": "code",
   "execution_count": 16,
   "metadata": {},
   "outputs": [],
   "source": [
    "#Replace matching values\n",
    "df3.replace({\"AgeGrpB\": age_labels}, inplace=True)"
   ]
  },
  {
   "cell_type": "code",
   "execution_count": 17,
   "metadata": {},
   "outputs": [
    {
     "name": "stdout",
     "output_type": "stream",
     "text": [
      "18-34     687\n",
      "35-49     968\n",
      "50-64    1668\n",
      "65-74    1171\n",
      "75+       790\n",
      "Name: AgeGrpB, dtype: int64\n",
      "18-34    0.130015\n",
      "35-49    0.183195\n",
      "50-64    0.315670\n",
      "65-74    0.221612\n",
      "75+      0.149508\n",
      "Name: AgeGrpB, dtype: float64\n"
     ]
    }
   ],
   "source": [
    "print(df3['AgeGrpB'].value_counts(normalize=False).sort_index()) #unweighted counts for age group\n",
    "print(df3['AgeGrpB'].value_counts(normalize=True).sort_index()) #unweighted propotion for age group"
   ]
  },
  {
   "cell_type": "code",
   "execution_count": 18,
   "metadata": {},
   "outputs": [
    {
     "data": {
      "text/plain": [
       "{1.0: 'Yes', 2: 'No', 3: 'Dont Know'}"
      ]
     },
     "execution_count": 18,
     "metadata": {},
     "output_type": "execute_result"
    }
   ],
   "source": [
    "#generic yes/no labels\n",
    "yes_no = {1.0 :'Yes', 2:'No',3:'Dont Know' }\n",
    "yes_no"
   ]
  },
  {
   "cell_type": "code",
   "execution_count": 19,
   "metadata": {},
   "outputs": [
    {
     "name": "stdout",
     "output_type": "stream",
     "text": [
      "Yes    4322\n",
      "No     1074\n",
      "Name: UseInternet, dtype: int64\n"
     ]
    }
   ],
   "source": [
    "df3.replace({\"UseInternet\": yes_no}, inplace=True)\n",
    "print(df3['UseInternet'].value_counts(normalize=False)) #unweighted use internet"
   ]
  },
  {
   "cell_type": "code",
   "execution_count": 21,
   "metadata": {},
   "outputs": [
    {
     "name": "stdout",
     "output_type": "stream",
     "text": [
      "UseInternet   No   Yes\n",
      "AgeGrpB               \n",
      "18-34         22   665\n",
      "35-49         58   907\n",
      "50-64        277  1379\n",
      "65-74        283   875\n",
      "75+          369   410\n"
     ]
    },
    {
     "data": {
      "text/html": [
       "<div>\n",
       "<style scoped>\n",
       "    .dataframe tbody tr th:only-of-type {\n",
       "        vertical-align: middle;\n",
       "    }\n",
       "\n",
       "    .dataframe tbody tr th {\n",
       "        vertical-align: top;\n",
       "    }\n",
       "\n",
       "    .dataframe thead th {\n",
       "        text-align: right;\n",
       "    }\n",
       "</style>\n",
       "<table border=\"1\" class=\"dataframe\">\n",
       "  <thead>\n",
       "    <tr style=\"text-align: right;\">\n",
       "      <th>UseInternet</th>\n",
       "      <th>No</th>\n",
       "      <th>Yes</th>\n",
       "    </tr>\n",
       "    <tr>\n",
       "      <th>AgeGrpB</th>\n",
       "      <th></th>\n",
       "      <th></th>\n",
       "    </tr>\n",
       "  </thead>\n",
       "  <tbody>\n",
       "    <tr>\n",
       "      <th>18-34</th>\n",
       "      <td>0.032023</td>\n",
       "      <td>0.967977</td>\n",
       "    </tr>\n",
       "    <tr>\n",
       "      <th>35-49</th>\n",
       "      <td>0.060104</td>\n",
       "      <td>0.939896</td>\n",
       "    </tr>\n",
       "    <tr>\n",
       "      <th>50-64</th>\n",
       "      <td>0.167271</td>\n",
       "      <td>0.832729</td>\n",
       "    </tr>\n",
       "    <tr>\n",
       "      <th>65-74</th>\n",
       "      <td>0.244387</td>\n",
       "      <td>0.755613</td>\n",
       "    </tr>\n",
       "    <tr>\n",
       "      <th>75+</th>\n",
       "      <td>0.473684</td>\n",
       "      <td>0.526316</td>\n",
       "    </tr>\n",
       "  </tbody>\n",
       "</table>\n",
       "</div>"
      ],
      "text/plain": [
       "UseInternet        No       Yes\n",
       "AgeGrpB                        \n",
       "18-34        0.032023  0.967977\n",
       "35-49        0.060104  0.939896\n",
       "50-64        0.167271  0.832729\n",
       "65-74        0.244387  0.755613\n",
       "75+          0.473684  0.526316"
      ]
     },
     "execution_count": 21,
     "metadata": {},
     "output_type": "execute_result"
    }
   ],
   "source": [
    "#internet use by age\n",
    "print(pd.crosstab(index=df3.AgeGrpB, columns=df3.UseInternet,)) #Counts\n",
    "pd.crosstab(index=df3.AgeGrpB, columns=df3.UseInternet, normalize = 'index') #Proportions"
   ]
  },
  {
   "cell_type": "code",
   "execution_count": 22,
   "metadata": {},
   "outputs": [
    {
     "data": {
      "image/png": "[encoded data removed]",
      "text/plain": [
       "<Figure size 432x288 with 1 Axes>"
      ]
     },
     "metadata": {
      "needs_background": "light"
     },
     "output_type": "display_data"
    }
   ],
   "source": [
    "ageXnet = pd.crosstab(index=df3.AgeGrpB, columns=df3.UseInternet, normalize = 'index') #data frame with proportions\n",
    "\n",
    "#plot age X internet\n",
    "ageXnet.plot.bar(stacked=False)\n",
    "plt.show()"
   ]
  },
  {
   "cell_type": "code",
   "execution_count": 23,
   "metadata": {},
   "outputs": [
    {
     "data": {
      "text/plain": [
       "(646.025078319146,\n",
       " 1.6904349957648914e-138,\n",
       " 4,\n",
       " array([[ 132.1607245 ,  554.8392755 ],\n",
       "        [ 185.6406101 ,  779.3593899 ],\n",
       "        [ 318.57082936, 1337.42917064],\n",
       "        [ 222.76873213,  935.23126787],\n",
       "        [ 149.85910391,  629.14089609]]))"
      ]
     },
     "execution_count": 23,
     "metadata": {},
     "output_type": "execute_result"
    }
   ],
   "source": [
    "#Chi square test for age and internet usage\n",
    "(chi2_contingency(pd.crosstab(index=df3.AgeGrpB, columns=df3.UseInternet)))"
   ]
  },
  {
   "cell_type": "markdown",
   "metadata": {},
   "source": [
    "Age and internet usage are not independent. "
   ]
  },
  {
   "cell_type": "code",
   "execution_count": 24,
   "metadata": {},
   "outputs": [],
   "source": [
    "#Labels for deivce ownership\n",
    "device_labels = {1: 'Tablet', 2:'Smartphone', 3:'Basic Cell Only', 4:'None', 5:'Multiple Devices'}"
   ]
  },
  {
   "cell_type": "code",
   "execution_count": 25,
   "metadata": {},
   "outputs": [
    {
     "name": "stdout",
     "output_type": "stream",
     "text": [
      "Multiple Devices    0.511619\n",
      "Smartphone          0.276592\n",
      "Basic Cell Only     0.108445\n",
      "Tablet              0.054411\n",
      "None                0.048933\n",
      "Name: HaveDevice_Cat, dtype: float64\n"
     ]
    }
   ],
   "source": [
    "df3.replace({\"HaveDevice_Cat\": device_labels}, inplace=True)\n",
    "print(df3['HaveDevice_Cat'].value_counts(normalize=True)) #unweighted use internet"
   ]
  },
  {
   "cell_type": "code",
   "execution_count": 26,
   "metadata": {},
   "outputs": [
    {
     "name": "stdout",
     "output_type": "stream",
     "text": [
      "HaveDevice_Cat  Basic Cell Only  Multiple Devices  None  Smartphone  Tablet\n",
      "AgeGrpB                                                                    \n",
      "18-34                        10               407     3         254       9\n",
      "35-49                        23               655     5         258      15\n",
      "50-64                       135               889    58         461      83\n",
      "65-74                       164               524    59         301      85\n",
      "75+                         211               195   115         153      79\n"
     ]
    },
    {
     "data": {
      "text/html": [
       "<div>\n",
       "<style scoped>\n",
       "    .dataframe tbody tr th:only-of-type {\n",
       "        vertical-align: middle;\n",
       "    }\n",
       "\n",
       "    .dataframe tbody tr th {\n",
       "        vertical-align: top;\n",
       "    }\n",
       "\n",
       "    .dataframe thead th {\n",
       "        text-align: right;\n",
       "    }\n",
       "</style>\n",
       "<table border=\"1\" class=\"dataframe\">\n",
       "  <thead>\n",
       "    <tr style=\"text-align: right;\">\n",
       "      <th>HaveDevice_Cat</th>\n",
       "      <th>Basic Cell Only</th>\n",
       "      <th>Multiple Devices</th>\n",
       "      <th>None</th>\n",
       "      <th>Smartphone</th>\n",
       "      <th>Tablet</th>\n",
       "    </tr>\n",
       "    <tr>\n",
       "      <th>AgeGrpB</th>\n",
       "      <th></th>\n",
       "      <th></th>\n",
       "      <th></th>\n",
       "      <th></th>\n",
       "      <th></th>\n",
       "    </tr>\n",
       "  </thead>\n",
       "  <tbody>\n",
       "    <tr>\n",
       "      <th>18-34</th>\n",
       "      <td>0.014641</td>\n",
       "      <td>0.595900</td>\n",
       "      <td>0.004392</td>\n",
       "      <td>0.371889</td>\n",
       "      <td>0.013177</td>\n",
       "    </tr>\n",
       "    <tr>\n",
       "      <th>35-49</th>\n",
       "      <td>0.024059</td>\n",
       "      <td>0.685146</td>\n",
       "      <td>0.005230</td>\n",
       "      <td>0.269874</td>\n",
       "      <td>0.015690</td>\n",
       "    </tr>\n",
       "    <tr>\n",
       "      <th>50-64</th>\n",
       "      <td>0.083026</td>\n",
       "      <td>0.546740</td>\n",
       "      <td>0.035670</td>\n",
       "      <td>0.283518</td>\n",
       "      <td>0.051046</td>\n",
       "    </tr>\n",
       "    <tr>\n",
       "      <th>65-74</th>\n",
       "      <td>0.144748</td>\n",
       "      <td>0.462489</td>\n",
       "      <td>0.052074</td>\n",
       "      <td>0.265666</td>\n",
       "      <td>0.075022</td>\n",
       "    </tr>\n",
       "    <tr>\n",
       "      <th>75+</th>\n",
       "      <td>0.280212</td>\n",
       "      <td>0.258964</td>\n",
       "      <td>0.152722</td>\n",
       "      <td>0.203187</td>\n",
       "      <td>0.104914</td>\n",
       "    </tr>\n",
       "  </tbody>\n",
       "</table>\n",
       "</div>"
      ],
      "text/plain": [
       "HaveDevice_Cat  Basic Cell Only  Multiple Devices      None  Smartphone  \\\n",
       "AgeGrpB                                                                   \n",
       "18-34                  0.014641          0.595900  0.004392    0.371889   \n",
       "35-49                  0.024059          0.685146  0.005230    0.269874   \n",
       "50-64                  0.083026          0.546740  0.035670    0.283518   \n",
       "65-74                  0.144748          0.462489  0.052074    0.265666   \n",
       "75+                    0.280212          0.258964  0.152722    0.203187   \n",
       "\n",
       "HaveDevice_Cat    Tablet  \n",
       "AgeGrpB                   \n",
       "18-34           0.013177  \n",
       "35-49           0.015690  \n",
       "50-64           0.051046  \n",
       "65-74           0.075022  \n",
       "75+             0.104914  "
      ]
     },
     "execution_count": 26,
     "metadata": {},
     "output_type": "execute_result"
    }
   ],
   "source": [
    "#Device ownership use by age\n",
    "print(pd.crosstab(index=df3.AgeGrpB, columns=df3.HaveDevice_Cat,)) #Counts\n",
    "ageXdevice = pd.crosstab(index=df3.AgeGrpB, columns=df3.HaveDevice_Cat, normalize = 'index') #Proportion\n",
    "ageXdevice"
   ]
  },
  {
   "cell_type": "code",
   "execution_count": 27,
   "metadata": {},
   "outputs": [
    {
     "data": {
      "image/png": "[encoded data removed]",
      "text/plain": [
       "<Figure size 432x288 with 1 Axes>"
      ]
     },
     "metadata": {
      "needs_background": "light"
     },
     "output_type": "display_data"
    }
   ],
   "source": [
    "#plot age X device\n",
    "ageXdevice.plot.bar(stacked=False)\n",
    "plt.show()"
   ]
  },
  {
   "cell_type": "code",
   "execution_count": 28,
   "metadata": {},
   "outputs": [
    {
     "name": "stdout",
     "output_type": "stream",
     "text": [
      "Yes          0.523682\n",
      "No           0.422252\n",
      "Dont Know    0.054066\n",
      "Name: TabletHealthWellnessApps, dtype: float64\n"
     ]
    }
   ],
   "source": [
    "#Health app usage\n",
    "df3.replace({\"TabletHealthWellnessApps\": yes_no}, inplace=True)\n",
    "print(df3['TabletHealthWellnessApps'].value_counts(normalize=True)) #unweighted use internet"
   ]
  },
  {
   "cell_type": "code",
   "execution_count": 29,
   "metadata": {},
   "outputs": [
    {
     "name": "stdout",
     "output_type": "stream",
     "text": [
      "TabletHealthWellnessApps  Dont Know   No  Yes\n",
      "AgeGrpB                                      \n",
      "18-34                            14  196  459\n",
      "35-49                            22  325  585\n",
      "50-64                            73  638  727\n",
      "65-74                            57  460  398\n",
      "75+                              62  225  137\n"
     ]
    },
    {
     "data": {
      "text/html": [
       "<div>\n",
       "<style scoped>\n",
       "    .dataframe tbody tr th:only-of-type {\n",
       "        vertical-align: middle;\n",
       "    }\n",
       "\n",
       "    .dataframe tbody tr th {\n",
       "        vertical-align: top;\n",
       "    }\n",
       "\n",
       "    .dataframe thead th {\n",
       "        text-align: right;\n",
       "    }\n",
       "</style>\n",
       "<table border=\"1\" class=\"dataframe\">\n",
       "  <thead>\n",
       "    <tr style=\"text-align: right;\">\n",
       "      <th>TabletHealthWellnessApps</th>\n",
       "      <th>Dont Know</th>\n",
       "      <th>No</th>\n",
       "      <th>Yes</th>\n",
       "    </tr>\n",
       "    <tr>\n",
       "      <th>AgeGrpB</th>\n",
       "      <th></th>\n",
       "      <th></th>\n",
       "      <th></th>\n",
       "    </tr>\n",
       "  </thead>\n",
       "  <tbody>\n",
       "    <tr>\n",
       "      <th>18-34</th>\n",
       "      <td>0.020927</td>\n",
       "      <td>0.292975</td>\n",
       "      <td>0.686099</td>\n",
       "    </tr>\n",
       "    <tr>\n",
       "      <th>35-49</th>\n",
       "      <td>0.023605</td>\n",
       "      <td>0.348712</td>\n",
       "      <td>0.627682</td>\n",
       "    </tr>\n",
       "    <tr>\n",
       "      <th>50-64</th>\n",
       "      <td>0.050765</td>\n",
       "      <td>0.443672</td>\n",
       "      <td>0.505563</td>\n",
       "    </tr>\n",
       "    <tr>\n",
       "      <th>65-74</th>\n",
       "      <td>0.062295</td>\n",
       "      <td>0.502732</td>\n",
       "      <td>0.434973</td>\n",
       "    </tr>\n",
       "    <tr>\n",
       "      <th>75+</th>\n",
       "      <td>0.146226</td>\n",
       "      <td>0.530660</td>\n",
       "      <td>0.323113</td>\n",
       "    </tr>\n",
       "  </tbody>\n",
       "</table>\n",
       "</div>"
      ],
      "text/plain": [
       "TabletHealthWellnessApps  Dont Know        No       Yes\n",
       "AgeGrpB                                                \n",
       "18-34                      0.020927  0.292975  0.686099\n",
       "35-49                      0.023605  0.348712  0.627682\n",
       "50-64                      0.050765  0.443672  0.505563\n",
       "65-74                      0.062295  0.502732  0.434973\n",
       "75+                        0.146226  0.530660  0.323113"
      ]
     },
     "execution_count": 29,
     "metadata": {},
     "output_type": "execute_result"
    }
   ],
   "source": [
    "#Health app use by age\n",
    "print(pd.crosstab(index=df3.AgeGrpB, columns=df3.TabletHealthWellnessApps,)) #Counts\n",
    "ageXapp = pd.crosstab(index=df3.AgeGrpB, columns=df3.TabletHealthWellnessApps, normalize = 'index')\n",
    "ageXapp"
   ]
  },
  {
   "cell_type": "code",
   "execution_count": 30,
   "metadata": {},
   "outputs": [
    {
     "data": {
      "image/png": "[encoded data removed]",
      "text/plain": [
       "<Figure size 432x288 with 1 Axes>"
      ]
     },
     "metadata": {
      "needs_background": "light"
     },
     "output_type": "display_data"
    }
   ],
   "source": [
    "#plot age X tablet usage\n",
    "ageXapp.plot.bar(stacked=False)\n",
    "plt.show()"
   ]
  }
 ],
 "metadata": {
  "kernelspec": {
   "display_name": "Python 3",
   "language": "python",
   "name": "python3"
  },
  "language_info": {
   "codemirror_mode": {
    "name": "ipython",
    "version": 3
   },
   "file_extension": ".py",
   "mimetype": "text/x-python",
   "name": "python",
   "nbconvert_exporter": "python",
   "pygments_lexer": "ipython3",
   "version": "3.8.5"
  }
 },
 "nbformat": 4,
 "nbformat_minor": 2
}
